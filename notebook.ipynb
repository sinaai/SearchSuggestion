{
 "cells": [
  {
   "cell_type": "code",
   "execution_count": 1,
   "id": "9e4ee032-de8e-41cf-9a99-49f1bf714cce",
   "metadata": {},
   "outputs": [
    {
     "data": {
      "text/plain": [
       "['سلاه به',\n",
       " 'سلامت جسم',\n",
       " 'اقتصاد',\n",
       " 'گناه',\n",
       " 'سلامsssssssssssssssssssssssssss',\n",
       " 'سلام چطوری',\n",
       " 'سلام نماز',\n",
       " 'سلام به',\n",
       " 'سلام بر ابراهیم',\n",
       " 'خسته',\n",
       " 'اقامه قسط',\n",
       " 'اقامه',\n",
       " 'ffffffffffffffffffffff']"
      ]
     },
     "execution_count": 1,
     "metadata": {},
     "output_type": "execute_result"
    }
   ],
   "source": [
    "from get_search_suggestion import return_suggestion\n",
    "\n",
    "# all suggestions of 'سلام'\n",
    "return_suggestion('سلام')"
   ]
  },
  {
   "cell_type": "code",
   "execution_count": 2,
   "id": "864de08c-eb49-495a-be72-03bfbd51f562",
   "metadata": {},
   "outputs": [
    {
     "data": {
      "text/plain": [
       "['سلاه به', 'سلامت جسم', 'اقتصاد']"
      ]
     },
     "execution_count": 2,
     "metadata": {},
     "output_type": "execute_result"
    }
   ],
   "source": [
    "# all suggestions of 'سلام' that repeated at least 2 times\n",
    "return_suggestion('سلام', method='n-repeated', n=2)"
   ]
  },
  {
   "cell_type": "code",
   "execution_count": 3,
   "id": "535bb404-2237-4c96-b10c-c840ca7b433a",
   "metadata": {},
   "outputs": [
    {
     "data": {
      "text/plain": [
       "['سلاه به', 'سلامت جسم', 'اقتصاد', 'گناه']"
      ]
     },
     "execution_count": 3,
     "metadata": {},
     "output_type": "execute_result"
    }
   ],
   "source": [
    "# 4 most repeated suggestions of 'سلام' \n",
    "return_suggestion('سلام', method='n-best', n=4)"
   ]
  },
  {
   "cell_type": "code",
   "execution_count": null,
   "id": "98803f3b-d05b-4614-a3ab-8c644902317f",
   "metadata": {},
   "outputs": [],
   "source": []
  }
 ],
 "metadata": {
  "kernelspec": {
   "display_name": "Python 3",
   "language": "python",
   "name": "python3"
  },
  "language_info": {
   "codemirror_mode": {
    "name": "ipython",
    "version": 3
   },
   "file_extension": ".py",
   "mimetype": "text/x-python",
   "name": "python",
   "nbconvert_exporter": "python",
   "pygments_lexer": "ipython3",
   "version": "3.8.5"
  }
 },
 "nbformat": 4,
 "nbformat_minor": 5
}
