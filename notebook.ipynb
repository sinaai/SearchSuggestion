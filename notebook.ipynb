{
 "cells": [
  {
   "cell_type": "code",
   "execution_count": 9,
   "id": "9e4ee032-de8e-41cf-9a99-49f1bf714cce",
   "metadata": {},
   "outputs": [
    {
     "data": {
      "text/plain": [
       "['سینا خان', 'سینا باقری نژاد']"
      ]
     },
     "execution_count": 9,
     "metadata": {},
     "output_type": "execute_result"
    }
   ],
   "source": [
    "from get_search_suggestion import return_suggestion\n",
    "\n",
    "return_suggestion('سینا')"
   ]
  },
  {
   "cell_type": "code",
   "execution_count": 10,
   "id": "864de08c-eb49-495a-be72-03bfbd51f562",
   "metadata": {},
   "outputs": [
    {
     "data": {
      "text/plain": [
       "['سینا خان', 'سینا باقری نژاد']"
      ]
     },
     "execution_count": 10,
     "metadata": {},
     "output_type": "execute_result"
    }
   ],
   "source": [
    "return_suggestion('سینا', method='n-repeated', n=1)"
   ]
  },
  {
   "cell_type": "code",
   "execution_count": 12,
   "id": "535bb404-2237-4c96-b10c-c840ca7b433a",
   "metadata": {},
   "outputs": [
    {
     "data": {
      "text/plain": [
       "['سینا خان']"
      ]
     },
     "execution_count": 12,
     "metadata": {},
     "output_type": "execute_result"
    }
   ],
   "source": [
    "return_suggestion('سینا', method='n-best', n=1)"
   ]
  },
  {
   "cell_type": "code",
   "execution_count": null,
   "id": "62a685fa-02a2-494e-8a5f-c28def449266",
   "metadata": {},
   "outputs": [],
   "source": []
  }
 ],
 "metadata": {
  "kernelspec": {
   "display_name": "Python 3",
   "language": "python",
   "name": "python3"
  },
  "language_info": {
   "codemirror_mode": {
    "name": "ipython",
    "version": 3
   },
   "file_extension": ".py",
   "mimetype": "text/x-python",
   "name": "python",
   "nbconvert_exporter": "python",
   "pygments_lexer": "ipython3",
   "version": "3.8.5"
  }
 },
 "nbformat": 4,
 "nbformat_minor": 5
}
